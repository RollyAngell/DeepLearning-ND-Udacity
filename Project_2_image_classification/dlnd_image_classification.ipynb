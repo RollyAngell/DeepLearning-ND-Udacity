{
 "cells": [
  {
   "cell_type": "markdown",
   "metadata": {
    "collapsed": true
   },
   "source": [
    "# Image Classification\n",
    "In this project, you'll classify images from the [CIFAR-10 dataset](https://www.cs.toronto.edu/~kriz/cifar.html).  The dataset consists of airplanes, dogs, cats, and other objects. You'll preprocess the images, then train a convolutional neural network on all the samples. The images need to be normalized and the labels need to be one-hot encoded.  You'll get to apply what you learned and build a convolutional, max pooling, dropout, and fully connected layers.  At the end, you'll get to see your neural network's predictions on the sample images.\n",
    "## Get the Data\n",
    "Run the following cell to download the [CIFAR-10 dataset for python](https://www.cs.toronto.edu/~kriz/cifar-10-python.tar.gz)."
   ]
  },
  {
   "cell_type": "code",
   "execution_count": 2,
   "metadata": {},
   "outputs": [
    {
     "name": "stdout",
     "output_type": "stream",
     "text": [
      "All files found!\n"
     ]
    }
   ],
   "source": [
    "\"\"\"\n",
    "DON'T MODIFY ANYTHING IN THIS CELL THAT IS BELOW THIS LINE\n",
    "\"\"\"\n",
    "from urllib.request import urlretrieve\n",
    "from os.path import isfile, isdir\n",
    "from tqdm import tqdm\n",
    "import problem_unittests as tests\n",
    "import tarfile\n",
    "\n",
    "cifar10_dataset_folder_path = 'cifar-10-batches-py'\n",
    "\n",
    "# Use Floyd's cifar-10 dataset if present\n",
    "floyd_cifar10_location = '/input/cifar-10/python.tar.gz'\n",
    "if isfile(floyd_cifar10_location):\n",
    "    tar_gz_path = floyd_cifar10_location\n",
    "else:\n",
    "    tar_gz_path = 'cifar-10-python.tar.gz'\n",
    "\n",
    "class DLProgress(tqdm):\n",
    "    last_block = 0\n",
    "\n",
    "    def hook(self, block_num=1, block_size=1, total_size=None):\n",
    "        self.total = total_size\n",
    "        self.update((block_num - self.last_block) * block_size)\n",
    "        self.last_block = block_num\n",
    "\n",
    "if not isfile(tar_gz_path):\n",
    "    with DLProgress(unit='B', unit_scale=True, miniters=1, desc='CIFAR-10 Dataset') as pbar:\n",
    "        urlretrieve(\n",
    "            'https://www.cs.toronto.edu/~kriz/cifar-10-python.tar.gz',\n",
    "            tar_gz_path,\n",
    "            pbar.hook)\n",
    "\n",
    "if not isdir(cifar10_dataset_folder_path):\n",
    "    with tarfile.open(tar_gz_path) as tar:\n",
    "        tar.extractall()\n",
    "        tar.close()\n",
    "\n",
    "\n",
    "tests.test_folder_path(cifar10_dataset_folder_path)"
   ]
  },
  {
   "cell_type": "markdown",
   "metadata": {},
   "source": [
    "## Explore the Data\n",
    "The dataset is broken into batches to prevent your machine from running out of memory.  The CIFAR-10 dataset consists of 5 batches, named `data_batch_1`, `data_batch_2`, etc.. Each batch contains the labels and images that are one of the following:\n",
    "* airplane\n",
    "* automobile\n",
    "* bird\n",
    "* cat\n",
    "* deer\n",
    "* dog\n",
    "* frog\n",
    "* horse\n",
    "* ship\n",
    "* truck\n",
    "\n",
    "Understanding a dataset is part of making predictions on the data.  Play around with the code cell below by changing the `batch_id` and `sample_id`. The `batch_id` is the id for a batch (1-5). The `sample_id` is the id for a image and label pair in the batch.\n",
    "\n",
    "Ask yourself \"What are all possible labels?\", \"What is the range of values for the image data?\", \"Are the labels in order or random?\".  Answers to questions like these will help you preprocess the data and end up with better predictions."
   ]
  },
  {
   "cell_type": "code",
   "execution_count": 3,
   "metadata": {},
   "outputs": [
    {
     "name": "stdout",
     "output_type": "stream",
     "text": [
      "\n",
      "Stats of batch 4:\n",
      "Samples: 10000\n",
      "Label Counts: {0: 1003, 1: 963, 2: 1041, 3: 976, 4: 1004, 5: 1021, 6: 1004, 7: 981, 8: 1024, 9: 983}\n",
      "First 20 Labels: [0, 6, 0, 2, 7, 2, 1, 2, 4, 1, 5, 6, 6, 3, 1, 3, 5, 5, 8, 1]\n",
      "\n",
      "Example of Image 550:\n",
      "Image - Min Value: 11 Max Value: 219\n",
      "Image - Shape: (32, 32, 3)\n",
      "Label - Label Id: 8 Name: ship\n"
     ]
    },
    {
     "data": {
      "image/png": "[encoded data removed]",
      "text/plain": [
       "<matplotlib.figure.Figure at 0xc779898>"
      ]
     },
     "metadata": {
      "image/png": {
       "height": 250,
       "width": 253
      }
     },
     "output_type": "display_data"
    }
   ],
   "source": [
    "%matplotlib inline\n",
    "%config InlineBackend.figure_format = 'retina'\n",
    "\n",
    "import helper\n",
    "import numpy as np\n",
    "\n",
    "# Explore the dataset\n",
    "batch_id = 4\n",
    "sample_id = 550\n",
    "helper.display_stats(cifar10_dataset_folder_path, batch_id, sample_id)"
   ]
  },
  {
   "cell_type": "markdown",
   "metadata": {},
   "source": [
    "## Implement Preprocess Functions\n",
    "### Normalize\n",
    "In the cell below, implement the `normalize` function to take in image data, `x`, and return it as a normalized Numpy array. The values should be in the range of 0 to 1, inclusive.  The return object should be the same shape as `x`."
   ]
  },
  {
   "cell_type": "code",
   "execution_count": 4,
   "metadata": {},
   "outputs": [
    {
     "name": "stdout",
     "output_type": "stream",
     "text": [
      "Tests Passed\n"
     ]
    }
   ],
   "source": [
    "def normalize(x):\n",
    "    \"\"\"\n",
    "    Normalize a list of sample image data in the range of 0 to 1\n",
    "    : x: List of image data.  The image shape is (32, 32, 3)\n",
    "    : return: Numpy array of normalize data\n",
    "    \"\"\"\n",
    "    # TODO: Implement Function\n",
    "    \n",
    "    x_minimo = np.min(x)\n",
    "    x_maximo = np.max(x)\n",
    "    x_normal = list()\n",
    "    \n",
    "    for i in x:\n",
    "        x_normal.append((i-x_minimo)/(x_maximo-x_minimo))\n",
    "        \n",
    "    return np.array(x_normal) \n",
    "\n",
    "\n",
    "\"\"\"\n",
    "DON'T MODIFY ANYTHING IN THIS CELL THAT IS BELOW THIS LINE\n",
    "\"\"\"\n",
    "tests.test_normalize(normalize)"
   ]
  },
  {
   "cell_type": "markdown",
   "metadata": {},
   "source": [
    "### One-hot encode\n",
    "Just like the previous code cell, you'll be implementing a function for preprocessing.  This time, you'll implement the `one_hot_encode` function. The input, `x`, are a list of labels.  Implement the function to return the list of labels as One-Hot encoded Numpy array.  The possible values for labels are 0 to 9. The one-hot encoding function should return the same encoding for each value between each call to `one_hot_encode`.  Make sure to save the map of encodings outside the function.\n",
    "\n",
    "Hint: Don't reinvent the wheel."
   ]
  },
  {
   "cell_type": "code",
   "execution_count": 5,
   "metadata": {
    "collapsed": true
   },
   "outputs": [],
   "source": [
    "def hot(x):\n",
    "    y=np.zeros(10)\n",
    "    np.put(y, x, 1)\n",
    "    return y"
   ]
  },
  {
   "cell_type": "code",
   "execution_count": 6,
   "metadata": {},
   "outputs": [
    {
     "name": "stdout",
     "output_type": "stream",
     "text": [
      "Tests Passed\n"
     ]
    }
   ],
   "source": [
    "def one_hot_encode(x):\n",
    "    \"\"\"\n",
    "    One hot encode a list of sample labels. Return a one-hot encoded vector for each label.\n",
    "    : x: List of sample Labels\n",
    "    : return: Numpy array of one-hot encoded labels\n",
    "    \"\"\"\n",
    "    # TODO: Implement Function\n",
    "    \n",
    "    one_hot = list()\n",
    "    \n",
    "    for i in x:\n",
    "        one_hot.append(hot(i))\n",
    "        \n",
    "    return np.array(one_hot)\n",
    "\n",
    "\n",
    "\"\"\"\n",
    "DON'T MODIFY ANYTHING IN THIS CELL THAT IS BELOW THIS LINE\n",
    "\"\"\"\n",
    "tests.test_one_hot_encode(one_hot_encode)"
   ]
  },
  {
   "cell_type": "markdown",
   "metadata": {},
   "source": [
    "### Randomize Data\n",
    "As you saw from exploring the data above, the order of the samples are randomized.  It doesn't hurt to randomize it again, but you don't need to for this dataset."
   ]
  },
  {
   "cell_type": "markdown",
   "metadata": {},
   "source": [
    "## Preprocess all the data and save it\n",
    "Running the code cell below will preprocess all the CIFAR-10 data and save it to file. The code below also uses 10% of the training data for validation."
   ]
  },
  {
   "cell_type": "code",
   "execution_count": 8,
   "metadata": {
    "collapsed": true
   },
   "outputs": [],
   "source": [
    "\"\"\"\n",
    "DON'T MODIFY ANYTHING IN THIS CELL\n",
    "\"\"\"\n",
    "# Preprocess Training, Validation, and Testing Data\n",
    "helper.preprocess_and_save_data(cifar10_dataset_folder_path, normalize, one_hot_encode)"
   ]
  },
  {
   "cell_type": "markdown",
   "metadata": {},
   "source": [
    "# Check Point\n",
    "This is your first checkpoint.  If you ever decide to come back to this notebook or have to restart the notebook, you can start from here.  The preprocessed data has been saved to disk."
   ]
  },
  {
   "cell_type": "code",
   "execution_count": 9,
   "metadata": {
    "collapsed": true
   },
   "outputs": [],
   "source": [
    "\"\"\"\n",
    "DON'T MODIFY ANYTHING IN THIS CELL\n",
    "\"\"\"\n",
    "import pickle\n",
    "import problem_unittests as tests\n",
    "import helper\n",
    "\n",
    "# Load the Preprocessed Validation data\n",
    "valid_features, valid_labels = pickle.load(open('preprocess_validation.p', mode='rb'))"
   ]
  },
  {
   "cell_type": "markdown",
   "metadata": {},
   "source": [
    "## Build the network\n",
    "For the neural network, you'll build each layer into a function.  Most of the code you've seen has been outside of functions. To test your code more thoroughly, we require that you put each layer in a function.  This allows us to give you better feedback and test for simple mistakes using our unittests before you submit your project.\n",
    "\n",
    ">**Note:** If you're finding it hard to dedicate enough time for this course each week, we've provided a small shortcut to this part of the project. In the next couple of problems, you'll have the option to use classes from the [TensorFlow Layers](https://www.tensorflow.org/api_docs/python/tf/layers) or [TensorFlow Layers (contrib)](https://www.tensorflow.org/api_guides/python/contrib.layers) packages to build each layer, except the layers you build in the \"Convolutional and Max Pooling Layer\" section.  TF Layers is similar to Keras's and TFLearn's abstraction to layers, so it's easy to pickup.\n",
    "\n",
    ">However, if you would like to get the most out of this course, try to solve all the problems _without_ using anything from the TF Layers packages. You **can** still use classes from other packages that happen to have the same name as ones you find in TF Layers! For example, instead of using the TF Layers version of the `conv2d` class, [tf.layers.conv2d](https://www.tensorflow.org/api_docs/python/tf/layers/conv2d), you would want to use the TF Neural Network version of `conv2d`, [tf.nn.conv2d](https://www.tensorflow.org/api_docs/python/tf/nn/conv2d). \n",
    "\n",
    "Let's begin!\n",
    "\n",
    "### Input\n",
    "The neural network needs to read the image data, one-hot encoded labels, and dropout keep probability. Implement the following functions\n",
    "* Implement `neural_net_image_input`\n",
    " * Return a [TF Placeholder](https://www.tensorflow.org/api_docs/python/tf/placeholder)\n",
    " * Set the shape using `image_shape` with batch size set to `None`.\n",
    " * Name the TensorFlow placeholder \"x\" using the TensorFlow `name` parameter in the [TF Placeholder](https://www.tensorflow.org/api_docs/python/tf/placeholder).\n",
    "* Implement `neural_net_label_input`\n",
    " * Return a [TF Placeholder](https://www.tensorflow.org/api_docs/python/tf/placeholder)\n",
    " * Set the shape using `n_classes` with batch size set to `None`.\n",
    " * Name the TensorFlow placeholder \"y\" using the TensorFlow `name` parameter in the [TF Placeholder](https://www.tensorflow.org/api_docs/python/tf/placeholder).\n",
    "* Implement `neural_net_keep_prob_input`\n",
    " * Return a [TF Placeholder](https://www.tensorflow.org/api_docs/python/tf/placeholder) for dropout keep probability.\n",
    " * Name the TensorFlow placeholder \"keep_prob\" using the TensorFlow `name` parameter in the [TF Placeholder](https://www.tensorflow.org/api_docs/python/tf/placeholder).\n",
    "\n",
    "These names will be used at the end of the project to load your saved model.\n",
    "\n",
    "Note: `None` for shapes in TensorFlow allow for a dynamic size."
   ]
  },
  {
   "cell_type": "code",
   "execution_count": 10,
   "metadata": {},
   "outputs": [
    {
     "name": "stdout",
     "output_type": "stream",
     "text": [
      "Image Input Tests Passed.\n",
      "Label Input Tests Passed.\n",
      "Keep Prob Tests Passed.\n"
     ]
    }
   ],
   "source": [
    "import tensorflow as tf\n",
    "\n",
    "def neural_net_image_input(image_shape):\n",
    "    \"\"\"\n",
    "    Return a Tensor for a batch of image input\n",
    "    : image_shape: Shape of the images\n",
    "    : return: Tensor for image input.\n",
    "    \"\"\"\n",
    "    # TODO: Implement Function\n",
    "    return tf.placeholder(tf.float32, shape=[None, \\\n",
    "                image_shape[0], image_shape[1], image_shape[2]], name='x')\n",
    "\n",
    "\n",
    "def neural_net_label_input(n_classes):\n",
    "    \"\"\"\n",
    "    Return a Tensor for a batch of label input\n",
    "    : n_classes: Number of classes\n",
    "    : return: Tensor for label input.\n",
    "    \"\"\"\n",
    "    # TODO: Implement Function\n",
    "    return tf.placeholder(tf.float32, shape=[None, n_classes], name='y')\n",
    "\n",
    "\n",
    "def neural_net_keep_prob_input():\n",
    "    \"\"\"\n",
    "    Return a Tensor for keep probability\n",
    "    : return: Tensor for keep probability.\n",
    "    \"\"\"\n",
    "    # TODO: Implement Function\n",
    "    return tf.placeholder(tf.float32, name='keep_prob')\n",
    "\n",
    "\n",
    "\"\"\"\n",
    "DON'T MODIFY ANYTHING IN THIS CELL THAT IS BELOW THIS LINE\n",
    "\"\"\"\n",
    "tf.reset_default_graph()\n",
    "tests.test_nn_image_inputs(neural_net_image_input)\n",
    "tests.test_nn_label_inputs(neural_net_label_input)\n",
    "tests.test_nn_keep_prob_inputs(neural_net_keep_prob_input)"
   ]
  },
  {
   "cell_type": "markdown",
   "metadata": {},
   "source": [
    "### Convolution and Max Pooling Layer\n",
    "Convolution layers have a lot of success with images. For this code cell, you should implement the function `conv2d_maxpool` to apply convolution then max pooling:\n",
    "* Create the weight and bias using `conv_ksize`, `conv_num_outputs` and the shape of `x_tensor`.\n",
    "* Apply a convolution to `x_tensor` using weight and `conv_strides`.\n",
    " * We recommend you use same padding, but you're welcome to use any padding.\n",
    "* Add bias\n",
    "* Add a nonlinear activation to the convolution.\n",
    "* Apply Max Pooling using `pool_ksize` and `pool_strides`.\n",
    " * We recommend you use same padding, but you're welcome to use any padding.\n",
    "\n",
    "**Note:** You **can't** use [TensorFlow Layers](https://www.tensorflow.org/api_docs/python/tf/layers) or [TensorFlow Layers (contrib)](https://www.tensorflow.org/api_guides/python/contrib.layers) for **this** layer, but you can still use TensorFlow's [Neural Network](https://www.tensorflow.org/api_docs/python/tf/nn) package. You may still use the shortcut option for all the **other** layers."
   ]
  },
  {
   "cell_type": "code",
   "execution_count": 11,
   "metadata": {},
   "outputs": [
    {
     "name": "stdout",
     "output_type": "stream",
     "text": [
      "Tests Passed\n"
     ]
    }
   ],
   "source": [
    "def conv2d_maxpool(x_tensor, conv_num_outputs, conv_ksize, conv_strides, pool_ksize, pool_strides):\n",
    "    \"\"\"\n",
    "    Apply convolution then max pooling to x_tensor\n",
    "    :param x_tensor: TensorFlow Tensor\n",
    "    :param conv_num_outputs: Number of outputs for the convolutional layer\n",
    "    :param conv_ksize: kernal size 2-D Tuple for the convolutional layer\n",
    "    :param conv_strides: Stride 2-D Tuple for convolution\n",
    "    :param pool_ksize: kernal size 2-D Tuple for pool\n",
    "    :param pool_strides: Stride 2-D Tuple for pool\n",
    "    : return: A tensor that represents convolution and max pooling of x_tensor\n",
    "    \"\"\"\n",
    "    # TODO: Implement Function\n",
    "    weight = tf.Variable(tf.random_normal([conv_ksize[0], conv_ksize[1], \\\n",
    "                    x_tensor.get_shape().as_list()[3], conv_num_outputs], stddev=0.1))\n",
    "    \n",
    "    bias   = tf.Variable(tf.random_normal([conv_num_outputs], stddev=0.1))\n",
    "    \n",
    "    x_tensor = tf.nn.conv2d(x_tensor, weight, [1, conv_strides[0], conv_strides[1], 1], \\\n",
    "                    padding='SAME')\n",
    "    \n",
    "    x_tensor = tf.nn.bias_add(x_tensor, bias)\n",
    "    \n",
    "    x_tensor = tf.nn.relu(x_tensor)\n",
    "    \n",
    "    x_tensor = tf.nn.max_pool(x_tensor, [1, pool_ksize[0], pool_ksize[1], 1], \\\n",
    "                              [1, pool_strides[0], pool_strides[1], 1], padding='SAME')\n",
    "    \n",
    "    return x_tensor \n",
    "\n",
    "\n",
    "\"\"\"\n",
    "DON'T MODIFY ANYTHING IN THIS CELL THAT IS BELOW THIS LINE\n",
    "\"\"\"\n",
    "tests.test_con_pool(conv2d_maxpool)"
   ]
  },
  {
   "cell_type": "markdown",
   "metadata": {},
   "source": [
    "### Flatten Layer\n",
    "Implement the `flatten` function to change the dimension of `x_tensor` from a 4-D tensor to a 2-D tensor.  The output should be the shape (*Batch Size*, *Flattened Image Size*). Shortcut option: you can use classes from the [TensorFlow Layers](https://www.tensorflow.org/api_docs/python/tf/layers) or [TensorFlow Layers (contrib)](https://www.tensorflow.org/api_guides/python/contrib.layers) packages for this layer. For more of a challenge, only use other TensorFlow packages."
   ]
  },
  {
   "cell_type": "code",
   "execution_count": 12,
   "metadata": {},
   "outputs": [
    {
     "name": "stdout",
     "output_type": "stream",
     "text": [
      "Tests Passed\n"
     ]
    }
   ],
   "source": [
    "def flatten(x_tensor):\n",
    "    \"\"\"\n",
    "    Flatten x_tensor to (Batch Size, Flattened Image Size)\n",
    "    : x_tensor: A tensor of size (Batch Size, ...), where ... are the image dimensions.\n",
    "    : return: A tensor of size (Batch Size, Flattened Image Size).\n",
    "    \"\"\"\n",
    "    # TODO: Implement Function\n",
    "    return tf.contrib.layers.flatten(x_tensor)\n",
    "\n",
    "\n",
    "\"\"\"\n",
    "DON'T MODIFY ANYTHING IN THIS CELL THAT IS BELOW THIS LINE\n",
    "\"\"\"\n",
    "tests.test_flatten(flatten)"
   ]
  },
  {
   "cell_type": "markdown",
   "metadata": {},
   "source": [
    "### Fully-Connected Layer\n",
    "Implement the `fully_conn` function to apply a fully connected layer to `x_tensor` with the shape (*Batch Size*, *num_outputs*). Shortcut option: you can use classes from the [TensorFlow Layers](https://www.tensorflow.org/api_docs/python/tf/layers) or [TensorFlow Layers (contrib)](https://www.tensorflow.org/api_guides/python/contrib.layers) packages for this layer. For more of a challenge, only use other TensorFlow packages."
   ]
  },
  {
   "cell_type": "code",
   "execution_count": 13,
   "metadata": {},
   "outputs": [
    {
     "name": "stdout",
     "output_type": "stream",
     "text": [
      "Tests Passed\n"
     ]
    }
   ],
   "source": [
    "def fully_conn(x_tensor, num_outputs):\n",
    "    \"\"\"\n",
    "    Apply a fully connected layer to x_tensor using weight and bias\n",
    "    : x_tensor: A 2-D tensor where the first dimension is batch size.\n",
    "    : num_outputs: The number of output that the new tensor should be.\n",
    "    : return: A 2-D tensor where the second dimension is num_outputs.\n",
    "    \"\"\"\n",
    "    # TODO: Implement Function\n",
    "    return tf.contrib.layers.fully_connected(x_tensor, num_outputs, tf.nn.relu)\n",
    "\n",
    "\n",
    "\"\"\"\n",
    "DON'T MODIFY ANYTHING IN THIS CELL THAT IS BELOW THIS LINE\n",
    "\"\"\"\n",
    "tests.test_fully_conn(fully_conn)"
   ]
  },
  {
   "cell_type": "markdown",
   "metadata": {},
   "source": [
    "### Output Layer\n",
    "Implement the `output` function to apply a fully connected layer to `x_tensor` with the shape (*Batch Size*, *num_outputs*). Shortcut option: you can use classes from the [TensorFlow Layers](https://www.tensorflow.org/api_docs/python/tf/layers) or [TensorFlow Layers (contrib)](https://www.tensorflow.org/api_guides/python/contrib.layers) packages for this layer. For more of a challenge, only use other TensorFlow packages.\n",
    "\n",
    "**Note:** Activation, softmax, or cross entropy should **not** be applied to this."
   ]
  },
  {
   "cell_type": "code",
   "execution_count": 14,
   "metadata": {},
   "outputs": [
    {
     "name": "stdout",
     "output_type": "stream",
     "text": [
      "Tests Passed\n"
     ]
    }
   ],
   "source": [
    "def output(x_tensor, num_outputs):\n",
    "    \"\"\"\n",
    "    Apply a output layer to x_tensor using weight and bias\n",
    "    : x_tensor: A 2-D tensor where the first dimension is batch size.\n",
    "    : num_outputs: The number of output that the new tensor should be.\n",
    "    : return: A 2-D tensor where the second dimension is num_outputs.\n",
    "    \"\"\"\n",
    "    # TODO: Implement Function\n",
    "    return tf.contrib.layers.fully_connected(x_tensor, num_outputs, activation_fn=None)\n",
    "\n",
    "\n",
    "\"\"\"\n",
    "DON'T MODIFY ANYTHING IN THIS CELL THAT IS BELOW THIS LINE\n",
    "\"\"\"\n",
    "tests.test_output(output)"
   ]
  },
  {
   "cell_type": "markdown",
   "metadata": {},
   "source": [
    "### Create Convolutional Model\n",
    "Implement the function `conv_net` to create a convolutional neural network model. The function takes in a batch of images, `x`, and outputs logits.  Use the layers you created above to create this model:\n",
    "\n",
    "* Apply 1, 2, or 3 Convolution and Max Pool layers\n",
    "* Apply a Flatten Layer\n",
    "* Apply 1, 2, or 3 Fully Connected Layers\n",
    "* Apply an Output Layer\n",
    "* Return the output\n",
    "* Apply [TensorFlow's Dropout](https://www.tensorflow.org/api_docs/python/tf/nn/dropout) to one or more layers in the model using `keep_prob`. "
   ]
  },
  {
   "cell_type": "code",
   "execution_count": 15,
   "metadata": {},
   "outputs": [
    {
     "name": "stdout",
     "output_type": "stream",
     "text": [
      "Neural Network Built!\n"
     ]
    }
   ],
   "source": [
    "def conv_net(x, keep_prob):\n",
    "    \"\"\"\n",
    "    Create a convolutional neural network model\n",
    "    : x: Placeholder tensor that holds image data.\n",
    "    : keep_prob: Placeholder tensor that hold dropout keep probability.\n",
    "    : return: Tensor that represents logits\n",
    "    \"\"\"\n",
    "    \n",
    "    ### PARAMETERS\n",
    "    \n",
    "    conv_ksize       = (8, 8)\n",
    "    conv_strides     = (conv_ksize[0]/2, conv_ksize[1]/2) # (4, 4)\n",
    "    conv_num_outputs = conv_ksize[0]*conv_ksize[1]        # 64\n",
    "    \n",
    "    pool_ksize       = (conv_strides[0], conv_strides[1]) # (4, 4)\n",
    "    pool_strides     = (pool_ksize[0]/2, pool_ksize[1]/2) # (2, 2)\n",
    "    \n",
    "    num_outputs      = 10\n",
    "    \n",
    "\n",
    "    # TODO: Apply 1, 2, or 3 Convolution and Max Pool layers\n",
    "    # Play around with different number of outputs, kernel size and stride\n",
    "    # Function Definition from Above:\n",
    "    # conv2d_maxpool(x_tensor,conv_num_outputs,conv_ksize,conv_strides,pool_ksize,pool_strides)\n",
    "       \n",
    "    conv2d_maxpool_layer_1 = conv2d_maxpool(x, conv_num_outputs, conv_ksize, conv_strides, pool_ksize, pool_strides)\n",
    "    \n",
    "    conv2d_maxpool_layer_2 = conv2d_maxpool(conv2d_maxpool_layer_1, conv_num_outputs, conv_ksize, conv_strides, pool_ksize, pool_strides)\n",
    "    \n",
    "    conv2d_maxpool_layer_3 = conv2d_maxpool(conv2d_maxpool_layer_2, conv_num_outputs, conv_ksize, conv_strides, pool_ksize, pool_strides)\n",
    "    \n",
    "    \n",
    "    # TODO: Apply a Flatten Layer\n",
    "    # Function Definition from Above:\n",
    "    #   flatten(x_tensor)\n",
    "    \n",
    "    flatten_layer = flatten(conv2d_maxpool_layer_3)\n",
    "    flatten_layer = tf.nn.dropout(flatten_layer, keep_prob)\n",
    "    \n",
    "    \n",
    "    # TODO: Apply 1, 2, or 3 Fully Connected Layers\n",
    "    #    Play around with different number of outputs\n",
    "    # Function Definition from Above:\n",
    "    #   fully_conn(x_tensor, num_outputs)\n",
    "    \n",
    "    fully_conn_layer = fully_conn(flatten_layer, num_outputs*2)\n",
    "    fully_conn_layer = tf.nn.dropout(fully_conn_layer, keep_prob)\n",
    "    \n",
    "    \n",
    "    # TODO: Apply an Output Layer\n",
    "    #    Set this to the number of classes\n",
    "    # Function Definition from Above:\n",
    "    #   output(x_tensor, num_outputs)\n",
    "    \n",
    "    output_layer = output(fully_conn_layer, num_outputs)\n",
    "    \n",
    "    \n",
    "    # TODO: return output\n",
    "    \n",
    "    return output_layer\n",
    "\n",
    "\n",
    "\"\"\"\n",
    "DON'T MODIFY ANYTHING IN THIS CELL THAT IS BELOW THIS LINE\n",
    "\"\"\"\n",
    "\n",
    "##############################\n",
    "## Build the Neural Network ##\n",
    "##############################\n",
    "\n",
    "# Remove previous weights, bias, inputs, etc..\n",
    "tf.reset_default_graph()\n",
    "\n",
    "# Inputs\n",
    "x = neural_net_image_input((32, 32, 3))\n",
    "y = neural_net_label_input(10)\n",
    "keep_prob = neural_net_keep_prob_input()\n",
    "\n",
    "# Model\n",
    "logits = conv_net(x, keep_prob)\n",
    "\n",
    "# Name logits Tensor, so that is can be loaded from disk after training\n",
    "logits = tf.identity(logits, name='logits')\n",
    "\n",
    "# Loss and Optimizer\n",
    "cost = tf.reduce_mean(tf.nn.softmax_cross_entropy_with_logits(logits=logits, labels=y))\n",
    "optimizer = tf.train.AdamOptimizer().minimize(cost)\n",
    "\n",
    "# Accuracy\n",
    "correct_pred = tf.equal(tf.argmax(logits, 1), tf.argmax(y, 1))\n",
    "accuracy = tf.reduce_mean(tf.cast(correct_pred, tf.float32), name='accuracy')\n",
    "\n",
    "tests.test_conv_net(conv_net)"
   ]
  },
  {
   "cell_type": "markdown",
   "metadata": {},
   "source": [
    "## Train the Neural Network\n",
    "### Single Optimization\n",
    "Implement the function `train_neural_network` to do a single optimization.  The optimization should use `optimizer` to optimize in `session` with a `feed_dict` of the following:\n",
    "* `x` for image input\n",
    "* `y` for labels\n",
    "* `keep_prob` for keep probability for dropout\n",
    "\n",
    "This function will be called for each batch, so `tf.global_variables_initializer()` has already been called.\n",
    "\n",
    "Note: Nothing needs to be returned. This function is only optimizing the neural network."
   ]
  },
  {
   "cell_type": "code",
   "execution_count": 16,
   "metadata": {},
   "outputs": [
    {
     "name": "stdout",
     "output_type": "stream",
     "text": [
      "Tests Passed\n"
     ]
    }
   ],
   "source": [
    "def train_neural_network(session, optimizer, keep_probability, feature_batch, label_batch):\n",
    "    \"\"\"\n",
    "    Optimize the session on a batch of images and labels\n",
    "    : session: Current TensorFlow session\n",
    "    : optimizer: TensorFlow optimizer function\n",
    "    : keep_probability: keep probability\n",
    "    : feature_batch: Batch of Numpy image data\n",
    "    : label_batch: Batch of Numpy label data\n",
    "    \"\"\"\n",
    "    # TODO: Implement Function\n",
    "    session.run(optimizer, feed_dict={x: feature_batch, y: label_batch, keep_prob: keep_probability})\n",
    "    \n",
    "    pass\n",
    "\n",
    "\n",
    "\"\"\"\n",
    "DON'T MODIFY ANYTHING IN THIS CELL THAT IS BELOW THIS LINE\n",
    "\"\"\"\n",
    "tests.test_train_nn(train_neural_network)"
   ]
  },
  {
   "cell_type": "markdown",
   "metadata": {},
   "source": [
    "### Show Stats\n",
    "Implement the function `print_stats` to print loss and validation accuracy.  Use the global variables `valid_features` and `valid_labels` to calculate validation accuracy.  Use a keep probability of `1.0` to calculate the loss and validation accuracy."
   ]
  },
  {
   "cell_type": "code",
   "execution_count": 17,
   "metadata": {
    "collapsed": true
   },
   "outputs": [],
   "source": [
    "def print_stats(session, feature_batch, label_batch, cost, accuracy):\n",
    "    \"\"\"\n",
    "    Print information about loss and validation accuracy\n",
    "    : session: Current TensorFlow session\n",
    "    : feature_batch: Batch of Numpy image data\n",
    "    : label_batch: Batch of Numpy label data\n",
    "    : cost: TensorFlow cost function\n",
    "    : accuracy: TensorFlow accuracy function\n",
    "    \"\"\"\n",
    "    # TODO: Implement Function\n",
    "    loss = session.run(cost, feed_dict={x: feature_batch, y: label_batch, keep_prob: 1. })\n",
    "    \n",
    "    accur = session.run(accuracy, feed_dict={x: valid_features, y: valid_labels, keep_prob: 1.})\n",
    "    \n",
    "    print('Loss: {:.4f}  Validation Accuracy: {:.2f}%'.format(loss, accur*100), end='\\r')\n",
    "    \n",
    "    pass"
   ]
  },
  {
   "cell_type": "markdown",
   "metadata": {},
   "source": [
    "### Hyperparameters\n",
    "Tune the following parameters:\n",
    "* Set `epochs` to the number of iterations until the network stops learning or start overfitting\n",
    "* Set `batch_size` to the highest number that your machine has memory for.  Most people set them to common sizes of memory:\n",
    " * 64\n",
    " * 128\n",
    " * 256\n",
    " * ...\n",
    "* Set `keep_probability` to the probability of keeping a node using dropout"
   ]
  },
  {
   "cell_type": "code",
   "execution_count": 18,
   "metadata": {
    "collapsed": true
   },
   "outputs": [],
   "source": [
    "# TODO: Tune Parameters\n",
    "epochs = 50\n",
    "batch_size = 1024\n",
    "keep_probability = 0.9"
   ]
  },
  {
   "cell_type": "markdown",
   "metadata": {},
   "source": [
    "### Train on a Single CIFAR-10 Batch\n",
    "Instead of training the neural network on all the CIFAR-10 batches of data, let's use a single batch. This should save time while you iterate on the model to get a better accuracy.  Once the final validation accuracy is 50% or greater, run the model on all the data in the next section."
   ]
  },
  {
   "cell_type": "code",
   "execution_count": 19,
   "metadata": {},
   "outputs": [
    {
     "name": "stdout",
     "output_type": "stream",
     "text": [
      "Checking the Training on a Single Batch...\n",
      "Epoch 50, CIFAR-10 Batch 1:  Loss: 2.2703  Validation Accuracy: 16.74%Loss: 2.2281  Validation Accuracy: 18.24%Loss: 2.1831  Validation Accuracy: 21.00%Loss: 2.1167  Validation Accuracy: 23.86%Loss: 2.0540  Validation Accuracy: 27.08%Loss: 1.9952  Validation Accuracy: 29.56%Loss: 1.9206  Validation Accuracy: 30.78%Loss: 1.8643  Validation Accuracy: 32.58%Loss: 1.8327  Validation Accuracy: 33.30%Loss: 1.7885  Validation Accuracy: 34.74%Loss: 1.7477  Validation Accuracy: 36.56%Loss: 1.7319  Validation Accuracy: 36.66%Loss: 1.7106  Validation Accuracy: 37.90%Loss: 1.6684  Validation Accuracy: 38.78%Loss: 1.6336  Validation Accuracy: 40.00%Loss: 1.6281  Validation Accuracy: 40.00%Loss: 1.5996  Validation Accuracy: 40.98%Loss: 1.5819  Validation Accuracy: 41.90%Loss: 1.5584  Validation Accuracy: 42.38%Loss: 1.5336  Validation Accuracy: 42.04%Loss: 1.5064  Validation Accuracy: 42.52%Loss: 1.4866  Validation Accuracy: 43.48%Loss: 1.4768  Validation Accuracy: 42.94%Loss: 1.4408  Validation Accuracy: 44.70%Loss: 1.4177  Validation Accuracy: 45.10%Loss: 1.4043  Validation Accuracy: 44.64%Loss: 1.3884  Validation Accuracy: 44.92%Loss: 1.4148  Validation Accuracy: 43.10%Loss: 1.3825  Validation Accuracy: 44.84%Loss: 1.3552  Validation Accuracy: 45.96%Loss: 1.3388  Validation Accuracy: 46.44%Loss: 1.3715  Validation Accuracy: 44.68%Loss: 1.3155  Validation Accuracy: 47.10%Loss: 1.2895  Validation Accuracy: 47.34%Loss: 1.2968  Validation Accuracy: 46.24%Loss: 1.2632  Validation Accuracy: 47.70%Loss: 1.2493  Validation Accuracy: 47.90%Loss: 1.2445  Validation Accuracy: 48.32%Loss: 1.2373  Validation Accuracy: 48.04%Loss: 1.2352  Validation Accuracy: 48.68%Loss: 1.2293  Validation Accuracy: 48.44%Loss: 1.2024  Validation Accuracy: 48.82%Loss: 1.2095  Validation Accuracy: 48.16%Loss: 1.1962  Validation Accuracy: 48.42%Loss: 1.1812  Validation Accuracy: 48.58%Loss: 1.1738  Validation Accuracy: 48.94%Loss: 1.1581  Validation Accuracy: 48.82%Loss: 1.1490  Validation Accuracy: 48.96%Loss: 1.1514  Validation Accuracy: 49.34%Loss: 1.1369  Validation Accuracy: 49.28%\r"
     ]
    }
   ],
   "source": [
    "\"\"\"\n",
    "DON'T MODIFY ANYTHING IN THIS CELL\n",
    "\"\"\"\n",
    "print('Checking the Training on a Single Batch...')\n",
    "with tf.Session() as sess:\n",
    "    # Initializing the variables\n",
    "    sess.run(tf.global_variables_initializer())\n",
    "    \n",
    "    # Training cycle\n",
    "    for epoch in range(epochs):\n",
    "        batch_i = 1\n",
    "        for batch_features, batch_labels in helper.load_preprocess_training_batch(batch_i, batch_size):\n",
    "            train_neural_network(sess, optimizer, keep_probability, batch_features, batch_labels)\n",
    "        print('Epoch {:>2}, CIFAR-10 Batch {}:  '.format(epoch + 1, batch_i), end='')\n",
    "        print_stats(sess, batch_features, batch_labels, cost, accuracy)"
   ]
  },
  {
   "cell_type": "markdown",
   "metadata": {},
   "source": [
    "### Fully Train the Model\n",
    "Now that you got a good accuracy with a single CIFAR-10 batch, try it with all five batches."
   ]
  },
  {
   "cell_type": "code",
   "execution_count": 20,
   "metadata": {},
   "outputs": [
    {
     "name": "stdout",
     "output_type": "stream",
     "text": [
      "Training...\n"
     ]
    },
    {
     "name": "stdout",
     "output_type": "stream",
     "text": [
      "Epoch 40, CIFAR-10 Batch 5:  Loss: 2.2933  Validation Accuracy: 10.94%Loss: 2.2858  Validation Accuracy: 13.74%Loss: 2.2446  Validation Accuracy: 13.94%Loss: 2.1982  Validation Accuracy: 17.54%Loss: 2.1320  Validation Accuracy: 23.38%Loss: 2.0552  Validation Accuracy: 27.14%Loss: 1.9670  Validation Accuracy: 28.88%Loss: 1.8938  Validation Accuracy: 29.58%Loss: 1.8457  Validation Accuracy: 30.38%Loss: 1.8353  Validation Accuracy: 34.16%Loss: 1.7731  Validation Accuracy: 35.88%Loss: 1.7726  Validation Accuracy: 36.94%Loss: 1.6876  Validation Accuracy: 37.78%Loss: 1.6590  Validation Accuracy: 39.66%Loss: 1.6930  Validation Accuracy: 40.06%Loss: 1.6394  Validation Accuracy: 40.62%Loss: 1.6513  Validation Accuracy: 41.64%Loss: 1.5634  Validation Accuracy: 42.44%Loss: 1.5527  Validation Accuracy: 43.38%Loss: 1.5917  Validation Accuracy: 43.26%Loss: 1.5394  Validation Accuracy: 44.60%Loss: 1.5655  Validation Accuracy: 43.88%Loss: 1.4564  Validation Accuracy: 45.42%Loss: 1.4613  Validation Accuracy: 44.76%Loss: 1.5227  Validation Accuracy: 45.14%Loss: 1.4513  Validation Accuracy: 46.16%Loss: 1.4739  Validation Accuracy: 45.66%Loss: 1.3922  Validation Accuracy: 46.90%Loss: 1.4182  Validation Accuracy: 47.74%Loss: 1.4416  Validation Accuracy: 47.54%Loss: 1.3881  Validation Accuracy: 47.98%Loss: 1.4182  Validation Accuracy: 47.00%Loss: 1.3288  Validation Accuracy: 48.48%Loss: 1.3839  Validation Accuracy: 47.78%Loss: 1.3925  Validation Accuracy: 48.82%Loss: 1.3611  Validation Accuracy: 48.14%Loss: 1.3748  Validation Accuracy: 49.12%Loss: 1.3118  Validation Accuracy: 48.84%Loss: 1.3215  Validation Accuracy: 49.68%Loss: 1.3475  Validation Accuracy: 49.40%Loss: 1.3087  Validation Accuracy: 49.96%Loss: 1.3323  Validation Accuracy: 49.90%Loss: 1.2768  Validation Accuracy: 50.12%Loss: 1.2896  Validation Accuracy: 50.18%Loss: 1.3225  Validation Accuracy: 50.36%Loss: 1.3023  Validation Accuracy: 50.40%Loss: 1.3056  Validation Accuracy: 51.06%Loss: 1.2414  Validation Accuracy: 50.46%Loss: 1.2516  Validation Accuracy: 50.92%Loss: 1.2804  Validation Accuracy: 51.46%Loss: 1.2663  Validation Accuracy: 51.76%Loss: 1.2926  Validation Accuracy: 52.38%Loss: 1.2156  Validation Accuracy: 51.44%Loss: 1.2266  Validation Accuracy: 52.24%Loss: 1.2477  Validation Accuracy: 52.54%Loss: 1.2434  Validation Accuracy: 52.34%Loss: 1.2799  Validation Accuracy: 52.16%Loss: 1.2192  Validation Accuracy: 52.02%Loss: 1.2254  Validation Accuracy: 51.48%Loss: 1.2316  Validation Accuracy: 53.18%Loss: 1.2246  Validation Accuracy: 52.56%Loss: 1.2493  Validation Accuracy: 53.66%Loss: 1.1814  Validation Accuracy: 52.56%Loss: 1.1992  Validation Accuracy: 52.50%Loss: 1.1979  Validation Accuracy: 54.00%Loss: 1.2094  Validation Accuracy: 53.22%Loss: 1.2214  Validation Accuracy: 54.10%Loss: 1.1536  Validation Accuracy: 53.60%Loss: 1.1732  Validation Accuracy: 53.52%Loss: 1.1752  Validation Accuracy: 54.08%Loss: 1.1932  Validation Accuracy: 53.76%Loss: 1.2010  Validation Accuracy: 54.22%Loss: 1.1512  Validation Accuracy: 53.32%Loss: 1.1583  Validation Accuracy: 53.54%Loss: 1.1634  Validation Accuracy: 54.62%Loss: 1.1553  Validation Accuracy: 55.12%Loss: 1.1846  Validation Accuracy: 55.02%Loss: 1.1411  Validation Accuracy: 54.16%Loss: 1.1310  Validation Accuracy: 54.22%Loss: 1.1448  Validation Accuracy: 54.90%Loss: 1.1261  Validation Accuracy: 55.54%Loss: 1.1752  Validation Accuracy: 54.96%Loss: 1.1183  Validation Accuracy: 54.60%Loss: 1.1214  Validation Accuracy: 55.14%Loss: 1.1291  Validation Accuracy: 55.64%Loss: 1.1185  Validation Accuracy: 55.66%Loss: 1.1657  Validation Accuracy: 55.20%Loss: 1.0936  Validation Accuracy: 55.36%Loss: 1.0975  Validation Accuracy: 56.30%Loss: 1.1042  Validation Accuracy: 56.00%Loss: 1.1078  Validation Accuracy: 55.86%Loss: 1.1316  Validation Accuracy: 56.36%Loss: 1.0781  Validation Accuracy: 55.78%Loss: 1.0817  Validation Accuracy: 56.02%Loss: 1.0924  Validation Accuracy: 56.10%Loss: 1.0847  Validation Accuracy: 56.24%Loss: 1.1132  Validation Accuracy: 56.36%Loss: 1.0818  Validation Accuracy: 56.02%Loss: 1.0738  Validation Accuracy: 56.14%Loss: 1.0754  Validation Accuracy: 56.70%Loss: 1.0650  Validation Accuracy: 56.22%Loss: 1.1086  Validation Accuracy: 55.88%Loss: 1.0716  Validation Accuracy: 56.00%Loss: 1.0638  Validation Accuracy: 56.48%Loss: 1.0671  Validation Accuracy: 56.98%Loss: 1.0626  Validation Accuracy: 56.66%Loss: 1.0978  Validation Accuracy: 56.68%Loss: 1.0463  Validation Accuracy: 56.18%Loss: 1.0600  Validation Accuracy: 56.52%Loss: 1.0529  Validation Accuracy: 57.16%Loss: 1.0500  Validation Accuracy: 56.74%Loss: 1.1023  Validation Accuracy: 55.44%Loss: 1.0292  Validation Accuracy: 56.88%Loss: 1.0585  Validation Accuracy: 56.46%Loss: 1.0513  Validation Accuracy: 57.22%Loss: 1.0475  Validation Accuracy: 56.56%Loss: 1.0834  Validation Accuracy: 56.30%Loss: 1.0294  Validation Accuracy: 57.08%Loss: 1.0472  Validation Accuracy: 56.56%Loss: 1.0514  Validation Accuracy: 57.46%Loss: 1.0342  Validation Accuracy: 56.96%Loss: 1.0671  Validation Accuracy: 56.82%Loss: 1.0294  Validation Accuracy: 56.98%Loss: 1.0297  Validation Accuracy: 56.98%Loss: 1.0272  Validation Accuracy: 57.90%Loss: 1.0102  Validation Accuracy: 57.58%Loss: 1.0476  Validation Accuracy: 57.34%Loss: 1.0351  Validation Accuracy: 56.64%Loss: 1.0190  Validation Accuracy: 57.76%Loss: 1.0094  Validation Accuracy: 58.12%Loss: 0.9987  Validation Accuracy: 58.10%Loss: 1.0470  Validation Accuracy: 57.32%Loss: 1.0104  Validation Accuracy: 56.98%Loss: 1.0051  Validation Accuracy: 57.72%Loss: 1.0035  Validation Accuracy: 58.20%Loss: 0.9928  Validation Accuracy: 57.92%Loss: 1.0378  Validation Accuracy: 57.48%Loss: 0.9900  Validation Accuracy: 58.02%Loss: 0.9928  Validation Accuracy: 58.08%Loss: 0.9919  Validation Accuracy: 58.02%Loss: 0.9844  Validation Accuracy: 58.14%Loss: 1.0196  Validation Accuracy: 57.22%Loss: 1.0024  Validation Accuracy: 57.48%Loss: 0.9829  Validation Accuracy: 58.72%Loss: 0.9886  Validation Accuracy: 58.22%Loss: 0.9761  Validation Accuracy: 58.34%Loss: 1.0059  Validation Accuracy: 57.80%Loss: 0.9824  Validation Accuracy: 58.00%Loss: 0.9808  Validation Accuracy: 58.52%Loss: 0.9702  Validation Accuracy: 58.48%Loss: 0.9674  Validation Accuracy: 58.42%Loss: 1.0061  Validation Accuracy: 57.40%Loss: 0.9858  Validation Accuracy: 57.48%Loss: 0.9817  Validation Accuracy: 58.46%Loss: 0.9688  Validation Accuracy: 58.48%Loss: 0.9605  Validation Accuracy: 58.70%Loss: 0.9987  Validation Accuracy: 57.34%Loss: 0.9884  Validation Accuracy: 57.50%Loss: 0.9903  Validation Accuracy: 58.60%Loss: 0.9527  Validation Accuracy: 58.62%Loss: 0.9556  Validation Accuracy: 58.82%Loss: 1.0105  Validation Accuracy: 56.76%Loss: 0.9479  Validation Accuracy: 58.06%Loss: 0.9737  Validation Accuracy: 58.26%Loss: 0.9473  Validation Accuracy: 59.00%Loss: 0.9530  Validation Accuracy: 58.70%Loss: 0.9964  Validation Accuracy: 57.60%Loss: 0.9455  Validation Accuracy: 58.80%Loss: 0.9738  Validation Accuracy: 58.06%Loss: 0.9386  Validation Accuracy: 59.50%Loss: 0.9398  Validation Accuracy: 58.78%Loss: 0.9889  Validation Accuracy: 57.82%Loss: 0.9234  Validation Accuracy: 59.06%Loss: 0.9433  Validation Accuracy: 58.72%Loss: 0.9256  Validation Accuracy: 59.26%Loss: 0.9304  Validation Accuracy: 58.84%Loss: 0.9703  Validation Accuracy: 58.52%Loss: 0.9124  Validation Accuracy: 59.52%Loss: 0.9589  Validation Accuracy: 58.46%Loss: 0.9248  Validation Accuracy: 59.50%Loss: 0.9319  Validation Accuracy: 59.20%Loss: 0.9587  Validation Accuracy: 58.88%Loss: 0.8868  Validation Accuracy: 59.72%Loss: 0.9356  Validation Accuracy: 59.26%Loss: 0.9037  Validation Accuracy: 60.08%Loss: 0.9185  Validation Accuracy: 59.04%Loss: 0.9518  Validation Accuracy: 58.66%Loss: 0.8902  Validation Accuracy: 58.76%Loss: 0.9358  Validation Accuracy: 58.50%Loss: 0.8957  Validation Accuracy: 59.74%Loss: 0.9223  Validation Accuracy: 59.42%Loss: 0.9528  Validation Accuracy: 58.48%Loss: 0.8755  Validation Accuracy: 59.80%Loss: 0.9130  Validation Accuracy: 59.00%Loss: 0.8956  Validation Accuracy: 59.92%Loss: 0.9097  Validation Accuracy: 59.64%Loss: 0.9342  Validation Accuracy: 58.74%Loss: 0.8808  Validation Accuracy: 59.14%Loss: 0.9184  Validation Accuracy: 58.94%Loss: 0.8898  Validation Accuracy: 60.10%"
     ]
    },
    {
     "name": "stdout",
     "output_type": "stream",
     "text": [
      "Epoch 50, CIFAR-10 Batch 5:  Loss: 0.9017  Validation Accuracy: 59.40%Loss: 0.9162  Validation Accuracy: 59.72%Loss: 0.8613  Validation Accuracy: 59.54%Loss: 0.8960  Validation Accuracy: 59.24%Loss: 0.8838  Validation Accuracy: 59.70%Loss: 0.9038  Validation Accuracy: 59.56%Loss: 0.9082  Validation Accuracy: 59.12%Loss: 0.8595  Validation Accuracy: 59.54%Loss: 0.8971  Validation Accuracy: 59.26%Loss: 0.8698  Validation Accuracy: 59.94%Loss: 0.8899  Validation Accuracy: 59.72%Loss: 0.9032  Validation Accuracy: 59.80%Loss: 0.8579  Validation Accuracy: 59.38%Loss: 0.8826  Validation Accuracy: 59.42%Loss: 0.8628  Validation Accuracy: 60.30%Loss: 0.8837  Validation Accuracy: 59.84%Loss: 0.8938  Validation Accuracy: 59.32%Loss: 0.8487  Validation Accuracy: 59.70%Loss: 0.8726  Validation Accuracy: 59.78%Loss: 0.8539  Validation Accuracy: 60.34%Loss: 0.8800  Validation Accuracy: 59.80%Loss: 0.8905  Validation Accuracy: 58.98%Loss: 0.8435  Validation Accuracy: 59.82%Loss: 0.8724  Validation Accuracy: 59.62%Loss: 0.8495  Validation Accuracy: 60.12%Loss: 0.8815  Validation Accuracy: 58.98%Loss: 0.9025  Validation Accuracy: 58.76%Loss: 0.8546  Validation Accuracy: 59.60%Loss: 0.8528  Validation Accuracy: 60.08%Loss: 0.8272  Validation Accuracy: 60.24%Loss: 0.8756  Validation Accuracy: 59.78%Loss: 0.8880  Validation Accuracy: 59.08%Loss: 0.8472  Validation Accuracy: 59.62%Loss: 0.8527  Validation Accuracy: 60.04%Loss: 0.8296  Validation Accuracy: 60.48%Loss: 0.8708  Validation Accuracy: 59.70%Loss: 0.8857  Validation Accuracy: 59.10%Loss: 0.8473  Validation Accuracy: 59.54%Loss: 0.8426  Validation Accuracy: 59.92%Loss: 0.8217  Validation Accuracy: 60.80%Loss: 0.8715  Validation Accuracy: 60.38%Loss: 0.8734  Validation Accuracy: 59.54%Loss: 0.8380  Validation Accuracy: 60.14%Loss: 0.8578  Validation Accuracy: 60.08%Loss: 0.8507  Validation Accuracy: 59.72%Loss: 0.8872  Validation Accuracy: 59.72%Loss: 0.8895  Validation Accuracy: 59.66%Loss: 0.8395  Validation Accuracy: 59.72%Loss: 0.9126  Validation Accuracy: 57.86%Loss: 0.8583  Validation Accuracy: 58.38%\r"
     ]
    }
   ],
   "source": [
    "\"\"\"\n",
    "DON'T MODIFY ANYTHING IN THIS CELL\n",
    "\"\"\"\n",
    "save_model_path = './image_classification'\n",
    "\n",
    "print('Training...')\n",
    "with tf.Session() as sess:\n",
    "    # Initializing the variables\n",
    "    sess.run(tf.global_variables_initializer())\n",
    "    \n",
    "    # Training cycle\n",
    "    for epoch in range(epochs):\n",
    "        # Loop over all batches\n",
    "        n_batches = 5\n",
    "        for batch_i in range(1, n_batches + 1):\n",
    "            for batch_features, batch_labels in helper.load_preprocess_training_batch(batch_i, batch_size):\n",
    "                train_neural_network(sess, optimizer, keep_probability, batch_features, batch_labels)\n",
    "            print('Epoch {:>2}, CIFAR-10 Batch {}:  '.format(epoch + 1, batch_i), end='')\n",
    "            print_stats(sess, batch_features, batch_labels, cost, accuracy)\n",
    "            \n",
    "    # Save Model\n",
    "    saver = tf.train.Saver()\n",
    "    save_path = saver.save(sess, save_model_path)"
   ]
  },
  {
   "cell_type": "markdown",
   "metadata": {},
   "source": [
    "# Checkpoint\n",
    "The model has been saved to disk.\n",
    "## Test Model\n",
    "Test your model against the test dataset.  This will be your final accuracy. You should have an accuracy greater than 50%. If you don't, keep tweaking the model architecture and parameters."
   ]
  },
  {
   "cell_type": "code",
   "execution_count": 21,
   "metadata": {},
   "outputs": [
    {
     "name": "stdout",
     "output_type": "stream",
     "text": [
      "INFO:tensorflow:Restoring parameters from ./image_classification\n",
      "Testing Accuracy: 0.5860192120075226\n",
      "\n"
     ]
    },
    {
     "data": {
      "image/png": "[encoded data removed]",
      "text/plain": [
       "<matplotlib.figure.Figure at 0xaceb080>"
      ]
     },
     "metadata": {
      "image/png": {
       "height": 319,
       "width": 355
      }
     },
     "output_type": "display_data"
    }
   ],
   "source": [
    "\"\"\"\n",
    "DON'T MODIFY ANYTHING IN THIS CELL\n",
    "\"\"\"\n",
    "%matplotlib inline\n",
    "%config InlineBackend.figure_format = 'retina'\n",
    "\n",
    "import tensorflow as tf\n",
    "import pickle\n",
    "import helper\n",
    "import random\n",
    "\n",
    "# Set batch size if not already set\n",
    "try:\n",
    "    if batch_size:\n",
    "        pass\n",
    "except NameError:\n",
    "    batch_size = 64\n",
    "\n",
    "save_model_path = './image_classification'\n",
    "n_samples = 4\n",
    "top_n_predictions = 3\n",
    "\n",
    "def test_model():\n",
    "    \"\"\"\n",
    "    Test the saved model against the test dataset\n",
    "    \"\"\"\n",
    "\n",
    "    test_features, test_labels = pickle.load(open('preprocess_test.p', mode='rb'))\n",
    "    loaded_graph = tf.Graph()\n",
    "\n",
    "    with tf.Session(graph=loaded_graph) as sess:\n",
    "        # Load model\n",
    "        loader = tf.train.import_meta_graph(save_model_path + '.meta')\n",
    "        loader.restore(sess, save_model_path)\n",
    "\n",
    "        # Get Tensors from loaded model\n",
    "        loaded_x = loaded_graph.get_tensor_by_name('x:0')\n",
    "        loaded_y = loaded_graph.get_tensor_by_name('y:0')\n",
    "        loaded_keep_prob = loaded_graph.get_tensor_by_name('keep_prob:0')\n",
    "        loaded_logits = loaded_graph.get_tensor_by_name('logits:0')\n",
    "        loaded_acc = loaded_graph.get_tensor_by_name('accuracy:0')\n",
    "        \n",
    "        # Get accuracy in batches for memory limitations\n",
    "        test_batch_acc_total = 0\n",
    "        test_batch_count = 0\n",
    "        \n",
    "        for test_feature_batch, test_label_batch in helper.batch_features_labels(test_features, test_labels, batch_size):\n",
    "            test_batch_acc_total += sess.run(\n",
    "                loaded_acc,\n",
    "                feed_dict={loaded_x: test_feature_batch, loaded_y: test_label_batch, loaded_keep_prob: 1.0})\n",
    "            test_batch_count += 1\n",
    "\n",
    "        print('Testing Accuracy: {}\\n'.format(test_batch_acc_total/test_batch_count))\n",
    "\n",
    "        # Print Random Samples\n",
    "        random_test_features, random_test_labels = tuple(zip(*random.sample(list(zip(test_features, test_labels)), n_samples)))\n",
    "        random_test_predictions = sess.run(\n",
    "            tf.nn.top_k(tf.nn.softmax(loaded_logits), top_n_predictions),\n",
    "            feed_dict={loaded_x: random_test_features, loaded_y: random_test_labels, loaded_keep_prob: 1.0})\n",
    "        helper.display_image_predictions(random_test_features, random_test_labels, random_test_predictions)\n",
    "\n",
    "\n",
    "test_model()"
   ]
  },
  {
   "cell_type": "markdown",
   "metadata": {},
   "source": [
    "## Why 50-80% Accuracy?\n",
    "You might be wondering why you can't get an accuracy any higher. First things first, 50% isn't bad for a simple CNN.  Pure guessing would get you 10% accuracy. However, you might notice people are getting scores [well above 80%](http://rodrigob.github.io/are_we_there_yet/build/classification_datasets_results.html#43494641522d3130).  That's because we haven't taught you all there is to know about neural networks. We still need to cover a few more techniques.\n",
    "## Submitting This Project\n",
    "When submitting this project, make sure to run all the cells before saving the notebook.  Save the notebook file as \"dlnd_image_classification.ipynb\" and save it as a HTML file under \"File\" -> \"Download as\".  Include the \"helper.py\" and \"problem_unittests.py\" files in your submission."
   ]
  }
 ],
 "metadata": {
  "kernelspec": {
   "display_name": "Python 3",
   "language": "python",
   "name": "python3"
  },
  "language_info": {
   "codemirror_mode": {
    "name": "ipython",
    "version": 3
   },
   "file_extension": ".py",
   "mimetype": "text/x-python",
   "name": "python",
   "nbconvert_exporter": "python",
   "pygments_lexer": "ipython3",
   "version": "3.5.3"
  }
 },
 "nbformat": 4,
 "nbformat_minor": 1
}
